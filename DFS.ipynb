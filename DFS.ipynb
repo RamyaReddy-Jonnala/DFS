{
 "cells": [
  {
   "cell_type": "code",
   "execution_count": 3,
   "id": "a38acbad-b50a-4148-9a40-d28ce674e4db",
   "metadata": {},
   "outputs": [
    {
     "name": "stdout",
     "output_type": "stream",
     "text": [
      "DFS traversal starting from A: ['A', 'B', 'E', 'C', 'D']\n"
     ]
    }
   ],
   "source": [
    "def dfs(graph, start):\n",
    "    visited = set()\n",
    "    result = []\n",
    "    \n",
    "    def dfs_helper(node):\n",
    "        visited.add(node)\n",
    "        result.append(node)\n",
    "        for neighbor in graph[node]:\n",
    "            if neighbor not in visited:\n",
    "                dfs_helper(neighbor)\n",
    "    \n",
    "    dfs_helper(start)\n",
    "    return result\n",
    "\n",
    "# Define the graph (replace this with your group's graph)\n",
    "graph = {\n",
    "    'A': ['B', 'C', 'D'],\n",
    "    'B': ['A', 'E'],\n",
    "    'C': ['A', 'E'],\n",
    "    'D': ['A', 'E'],\n",
    "    'E': ['B', 'C', 'D']\n",
    "}\n",
    "\n",
    "# Example usage:\n",
    "start_node = 'A'  # Replace 'A' with 's' if your source is 's'\n",
    "dfs_result = dfs(graph, start_node)\n",
    "print(f\"DFS traversal starting from {start_node}: {dfs_result}\")"
   ]
  },
  {
   "cell_type": "code",
   "execution_count": null,
   "id": "8a2e8df8-459b-4ca3-acf0-639e7c400123",
   "metadata": {},
   "outputs": [],
   "source": []
  }
 ],
 "metadata": {
  "kernelspec": {
   "display_name": "Python 3 (ipykernel)",
   "language": "python",
   "name": "python3"
  },
  "language_info": {
   "codemirror_mode": {
    "name": "ipython",
    "version": 3
   },
   "file_extension": ".py",
   "mimetype": "text/x-python",
   "name": "python",
   "nbconvert_exporter": "python",
   "pygments_lexer": "ipython3",
   "version": "3.12.4"
  }
 },
 "nbformat": 4,
 "nbformat_minor": 5
}
